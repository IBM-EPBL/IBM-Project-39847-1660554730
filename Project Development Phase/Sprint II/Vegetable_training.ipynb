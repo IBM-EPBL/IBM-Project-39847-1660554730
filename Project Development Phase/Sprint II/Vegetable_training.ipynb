{
  "nbformat": 4,
  "nbformat_minor": 0,
  "metadata": {
    "colab": {
      "provenance": []
    },
    "kernelspec": {
      "name": "python3",
      "display_name": "Python 3"
    },
    "language_info": {
      "name": "python"
    }
  },
  "cells": [
    {
      "cell_type": "markdown",
      "source": [
        "### Preprocess The Images\n"
      ],
      "metadata": {
        "id": "0r_eCZBFCvQb"
      }
    },
    {
      "cell_type": "code",
      "source": [
        "from tensorflow.keras.preprocessing.image import ImageDataGenerator\n",
        "\n",
        "train_data = ImageDataGenerator(rescale=1./255,\n",
        "                                   zoom_range=0.2, shear_range=0.2,\n",
        "                                   horizontal_flip=True)\n",
        "\n",
        "test_data = ImageDataGenerator(rescale=1)\n",
        "\n",
        "x_test=test_data.flow_from_directory('Dataset Plant Disease/vegetable-dataset/vegetable-dataset',target_size=(128,128),class_mode='categorical',batch_size=32)\n",
        "\n",
        "x_train=train_data.flow_from_directory('Dataset Plant Disease/vegetable-dataset/vegetable-dataset',target_size=(128,128),class_mode='categorical',batch_size=32')\n"
      ],
      "metadata": {
        "id": "l-u_aS6FaHp3"
      },
      "execution_count": null,
      "outputs": []
    },
    {
      "cell_type": "markdown",
      "source": [
        "### Import The Libraries\n"
      ],
      "metadata": {
        "id": "cuZ3MOmFCfkq"
      }
    },
    {
      "cell_type": "code",
      "source": [
        "from tensorflow.keras.models import Sequential\n",
        "\n",
        "from tensorflow.keras.layers import Convolution2D, MaxPooling2D, Flatten, Dense\n"
      ],
      "metadata": {
        "id": "RrpVu6n5C85M"
      },
      "execution_count": 3,
      "outputs": []
    },
    {
      "cell_type": "markdown",
      "source": [
        "### Initializing The Model\n"
      ],
      "metadata": {
        "id": "g42FLz0gDE2B"
      }
    },
    {
      "cell_type": "code",
      "source": [
        "model = Sequential()"
      ],
      "metadata": {
        "id": "H9zegFRUDA8k"
      },
      "execution_count": 4,
      "outputs": []
    },
    {
      "cell_type": "markdown",
      "source": [
        "### ADD CNNLayers\n"
      ],
      "metadata": {
        "id": "SH81_h0vDL1S"
      }
    },
    {
      "cell_type": "code",
      "source": [
        "model.add(Convolution2D(42,(4,4),activation='relu',input_shape=(128,128,4)))\n",
        "\n",
        "model.add(MaxPooling2D(pool_size=(2, 2)))\n",
        "\n",
        "model.add(Flatten())"
      ],
      "metadata": {
        "id": "PF3LX2n7DO-C"
      },
      "execution_count": 5,
      "outputs": []
    },
    {
      "cell_type": "markdown",
      "source": [
        "### Add Dense Layers\n"
      ],
      "metadata": {
        "id": "TvqorjdqDaAM"
      }
    },
    {
      "cell_type": "code",
      "source": [
        "model.add(Dense(output_dim=40,init='uniform',activation='relu'))\n",
        "\n",
        "model.add(Dense(output_dim=20,init='random_uniform',activation='relu'))\n",
        "\n",
        "model.add(Dense(output_dim=6,init='random_uniform',activation='softmax'))"
      ],
      "metadata": {
        "id": "z_KTGwwVDcHI"
      },
      "execution_count": null,
      "outputs": []
    },
    {
      "cell_type": "markdown",
      "source": [
        "### Compile the model\n"
      ],
      "metadata": {
        "id": "WQd5iwJKDgHC"
      }
    },
    {
      "cell_type": "code",
      "source": [
        "model.compile(optimizer='adam',loss='categorical_crossentropy',metrics=['accuracy'])"
      ],
      "metadata": {
        "id": "6G4mKR9gDlUl"
      },
      "execution_count": null,
      "outputs": []
    },
    {
      "cell_type": "markdown",
      "source": [
        "### Fit and save the model\n"
      ],
      "metadata": {
        "id": "EVJFolljDnmI"
      }
    },
    {
      "cell_type": "code",
      "source": [
        "model.fit_generator(x_train,steps_per_epoch= len(x_train),epochs= 10,validation_data=x_test,validation_steps= len(x_test))\n",
        "\n",
        "model.save('vegetable.h5')"
      ],
      "metadata": {
        "id": "7OUKzVKNDrle"
      },
      "execution_count": null,
      "outputs": []
    }
  ]
}