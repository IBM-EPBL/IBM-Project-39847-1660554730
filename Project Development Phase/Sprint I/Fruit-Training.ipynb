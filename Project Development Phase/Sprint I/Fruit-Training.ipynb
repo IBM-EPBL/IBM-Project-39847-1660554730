from tensorflow.keras.preprocessing.image import ImageDataGenerator

train_data = ImageDataGenerator(rescale=1./255,
                                   zoom_range=0.2, shear_range=0.2,
                                   horizontal_flip=True)

test_data = ImageDataGenerator(rescale=1)

x_test=test_data.flow_from_directory('Dataset Plant Disease/fruit-dataset/fruit-dataset',
                                         target_size=(128,128),
                                         class_mode='categorical',
                                         batch_size=32)

x_train=train_data.flow_from_directory('Dataset Plant Disease/fruit-dataset/fruit-dataset',
                                         target_size=(128,128),
                                         class_mode='categorical',
                                         batch_size=32')

from tensorflow.keras.models import Sequential
from tensorflow.keras.layers import Convolution2D, MaxPooling2D, Flatten, Dense
model = Sequential()

model.add(Convolution2D(42,(4,4),activation='relu',input_shape=(128,128,4)))
model.add(MaxPooling2D(pool_size=(2, 2)))
model.add(Flatten())

model.add(Dense(output_dim=40,init='uniform',activation='relu'))
model.add(Dense(output_dim=20,init='random_uniform',activation='relu'))
model.add(Dense(output_dim=6,init='random_uniform',activation='softmax'))
model.compile(optimizer='adam',loss='categorical_crossentropy',metrics=['accuracy'])

model.fit_generator(x_train,steps_per_epoch= len(x_train),epochs= 10,validation_data=x_test,validation_steps= len(x_test))

model.save('fruit.h5')
