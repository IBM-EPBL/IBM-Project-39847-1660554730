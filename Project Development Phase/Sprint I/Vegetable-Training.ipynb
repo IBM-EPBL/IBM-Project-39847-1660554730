from tensorflow.keras.preprocessing.image import ImageDataGenerator

train_data = ImageDataGenerator(rescale=1./255,
                                   zoom_range=0.2,
                                 shear_range=0.2,
                                   horizontal_flip=True)

test_data = ImageDataGenerator(rescale=1)

xtest=test_data.flow_from_directory('',
                                         target_size=(128,128),
                                         class_mode='categorical',
                                         batch_size=16)

xtrain=train_data.flow_from_directory('',
                                         target_size=(128,128),
                                         class_mode='categorical',
                                         batch_size=16')

from tensorflow.keras.models import Sequential
from tensorflow.keras.layers import Convolution2D, MaxPooling2D, Flatten, Dense
model = Sequential()

model.add(Convolution2D(42,(4,4),activation='relu',input_shape=(128,128,4)))
model.add(MaxPooling2D(pool_size=(2, 2)))
model.add(Flatten())

model.add(Dense(units=300,init='uniform',activation='relu'))
model.add(Dense(units=150,init='uniform',activation='relu'))
model.add(Dense(units=75,init='uniform',activation='relu'))
model.add(Dense(output_dim=9,init='uniform',activation='softmax'))

model.compile(optimizer='adam',loss='categorical_crossentropy',metrics=['accuracy'])

model.fit_generator(xtrain,steps_per_epoch= 89,epochs=20,validation_data=xtest,validation_steps= 27)

model.save('vegetable.h5')