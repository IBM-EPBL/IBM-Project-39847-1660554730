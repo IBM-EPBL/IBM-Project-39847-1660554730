{
  "nbformat": 4,
  "nbformat_minor": 0,
  "metadata": {
    "colab": {
      "provenance": []
    },
    "kernelspec": {
      "name": "python3",
      "display_name": "Python 3"
    },
    "language_info": {
      "name": "python"
    },
    "accelerator": "GPU"
  },
  "cells": [
    {
      "cell_type": "code",
      "execution_count": null,
      "metadata": {
        "id": "StDmk5d5nNC8"
      },
      "outputs": [],
      "source": []
    },
    {
      "cell_type": "markdown",
      "source": [
        "**Image Augmentation**"
      ],
      "metadata": {
        "id": "zUIMEJzbpBxi"
      }
    },
    {
      "cell_type": "code",
      "source": [
        "from tensorflow.keras.preprocessing.image import ImageDataGenerator\n",
        "\n",
        "train_data = ImageDataGenerator(rescale=1./255,\n",
        "                                   zoom_range=0.2,\n",
        "                                   horizontal_flip=True)\n",
        "\n",
        "test_data = ImageDataGenerator(rescale=1./255)"
      ],
      "metadata": {
        "id": "q4jRuy23pQmo"
      },
      "execution_count": 3,
      "outputs": []
    },
    {
      "cell_type": "code",
      "source": [
        "xtest=test_data.flow_from_directory('/content/Flowers-Dataset (1).zip',\n",
        "                                         target_size=(76,76),\n",
        "                                         class_mode='categorical',\n",
        "                                         batch_size=100)\n"
      ],
      "metadata": {
        "id": "nTd187EapcOH"
      },
      "execution_count": null,
      "outputs": []
    },
    {
      "cell_type": "code",
      "source": [
        "xtrain=train_data.flow_from_directory('/content/Flowers-Dataset (1).zip',target_size=(76,76), class_mode='categorical',batch_size=100)"
      ],
      "metadata": {
        "id": "a7S_igSsqjfl"
      },
      "execution_count": null,
      "outputs": []
    },
    {
      "cell_type": "markdown",
      "source": [
        "**Create a model**"
      ],
      "metadata": {
        "id": "P6s2loo5q3sc"
      }
    },
    {
      "cell_type": "code",
      "source": [
        "from tensorflow.keras.models import Sequential\n",
        "from tensorflow.keras.layers import Convolution2D, MaxPooling2D, Flatten, Dense\n",
        "model = Sequential()"
      ],
      "metadata": {
        "id": "LGRxY2Gmq26d"
      },
      "execution_count": 15,
      "outputs": []
    },
    {
      "cell_type": "markdown",
      "source": [
        "**Add Layers (Convolution,MaxPooling,Flatten,Dense-(Hidden Layers),Output)**"
      ],
      "metadata": {
        "id": "4DvOsMggrHw8"
      }
    },
    {
      "cell_type": "code",
      "source": [
        "model.add(Convolution2D(32,(3,3),activation='relu',input_shape=(64,64,3))) \n",
        "model.add(MaxPooling2D(pool_size=(2, 2))) \n",
        "model.add(Flatten())\n",
        "model.add(Dense(300,activation='relu')) \n",
        "model.add(Dense(150,activation='relu')) \n",
        "model.add(Dense(4,activation='softmax'))"
      ],
      "metadata": {
        "id": "aWXHiTw2rKTM"
      },
      "execution_count": 16,
      "outputs": []
    },
    {
      "cell_type": "markdown",
      "source": [
        "**Compile The Model**"
      ],
      "metadata": {
        "id": "ibDiFzXUrTqP"
      }
    },
    {
      "cell_type": "code",
      "source": [
        "model.compile(optimizer='adam',loss='categorical_crossentropy',metrics=['accuracy'])"
      ],
      "metadata": {
        "id": "CV4N2ylBrZI2"
      },
      "execution_count": 17,
      "outputs": []
    },
    {
      "cell_type": "markdown",
      "source": [
        "**Fit The Model**"
      ],
      "metadata": {
        "id": "oB6QQKBxr-nx"
      }
    },
    {
      "cell_type": "code",
      "source": [
        "model.fit_generator(xtrain,steps_per_epoch= len(xtrain),epochs= 10,validation_data=xtest,validation_steps= len(xtest))"
      ],
      "metadata": {
        "id": "mz18ETWUsAwh"
      },
      "execution_count": null,
      "outputs": []
    },
    {
      "cell_type": "markdown",
      "source": [
        "**Save tha Model**"
      ],
      "metadata": {
        "id": "ZbaSDG9vsuvp"
      }
    },
    {
      "cell_type": "code",
      "source": [
        "model.save('flower.h5')"
      ],
      "metadata": {
        "id": "YspuwNdmsxPA"
      },
      "execution_count": 24,
      "outputs": []
    },
    {
      "cell_type": "markdown",
      "source": [
        "**Test The Model**"
      ],
      "metadata": {
        "id": "iQC8dEars0nR"
      }
    },
    {
      "cell_type": "code",
      "source": [
        "from tensorflow.keras.preprocessing import image\n",
        "import numpy as np"
      ],
      "metadata": {
        "id": "tk4Hksx4s6zg"
      },
      "execution_count": 25,
      "outputs": []
    },
    {
      "cell_type": "code",
      "source": [
        "img=image.load_img('/content/5547758_eea9edfd54_n.jpg',target_size=(76,76))\n",
        "img"
      ],
      "metadata": {
        "colab": {
          "base_uri": "https://localhost:8080/",
          "height": 93
        },
        "id": "UacmRlg1tH1w",
        "outputId": "9d5bb2fc-f24d-430d-8005-90e9c23cd870"
      },
      "execution_count": 31,
      "outputs": [
        {
          "output_type": "execute_result",
          "data": {
            "text/plain": [
              "<PIL.Image.Image image mode=RGB size=76x76 at 0x7F76FC6C9310>"
            ],
            "image/png": "[encoded data removed]"
          },
          "metadata": {},
          "execution_count": 31
        }
      ]
    },
    {
      "cell_type": "code",
      "source": [
        "x=image.img_to_array(img)\n",
        "x"
      ],
      "metadata": {
        "id": "efQUsmSawWSu"
      },
      "execution_count": null,
      "outputs": []
    },
    {
      "cell_type": "code",
      "source": [
        "x= np.expand_dims(x,axis=0)\n",
        "x"
      ],
      "metadata": {
        "id": "jiu0oqLywbC3"
      },
      "execution_count": null,
      "outputs": []
    },
    {
      "cell_type": "code",
      "source": [
        "img=image.load_img('/content/12240303_80d87f77a3_n.jpg',target_size=(76,76))\n",
        "img"
      ],
      "metadata": {
        "colab": {
          "base_uri": "https://localhost:8080/",
          "height": 93
        },
        "id": "Ko89RJH5wfRe",
        "outputId": "f798dc8c-a76a-4953-f4ca-c462e1599a6e"
      },
      "execution_count": 36,
      "outputs": [
        {
          "output_type": "execute_result",
          "data": {
            "text/plain": [
              "<PIL.Image.Image image mode=RGB size=76x76 at 0x7F76FC613390>"
            ],
            "image/png": "[encoded data removed]"
          },
          "metadata": {},
          "execution_count": 36
        }
      ]
    },
    {
      "cell_type": "code",
      "source": [
        "x=image.img_to_array(img)\n",
        "x\n",
        "x=np.expand_dims(x,axis=0)\n",
        "x"
      ],
      "metadata": {
        "id": "8ezv4lcaxUlG"
      },
      "execution_count": null,
      "outputs": []
    }
  ]
}