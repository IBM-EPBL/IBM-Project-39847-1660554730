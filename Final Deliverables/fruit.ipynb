{
 "cells": [
  {
   "cell_type": "code",
   "execution_count": 2,
   "id": "d9596141",
   "metadata": {},
   "outputs": [],
   "source": [
    "#Importing Required Libraries\n",
    "import pandas as pd\n",
    "import numpy as np\n",
    "from tensorflow.keras.models import Sequential\n",
    "from tensorflow.keras.layers import Convolution2D, MaxPooling2D, Flatten, Dense\n",
    "from tensorflow.keras.preprocessing.image import ImageDataGenerator"
   ]
  },
  {
   "cell_type": "code",
   "execution_count": 3,
   "id": "886ec2ae",
   "metadata": {},
   "outputs": [],
   "source": [
    "train_datagen=ImageDataGenerator(rescale=1./255, \n",
    "                                 zoom_range=0.2,\n",
    "                                 horizontal_flip=True,\n",
    "                                 vertical_flip=False)"
   ]
  },
  {
   "cell_type": "code",
   "execution_count": 4,
   "id": "4daf045c",
   "metadata": {},
   "outputs": [],
   "source": [
    "test_datagen=ImageDataGenerator(rescale=1./255)"
   ]
  },
  {
   "cell_type": "code",
   "execution_count": 5,
   "id": "91d00f13",
   "metadata": {},
   "outputs": [
    {
     "name": "stdout",
     "output_type": "stream",
     "text": [
      "Found 5384 images belonging to 6 classes.\n"
     ]
    }
   ],
   "source": [
    "x_train=train_datagen.flow_from_directory(r\"D:\\Plant Disease\\Dataset Plant Disease\\fruit-dataset\\fruit-dataset\\train\",\n",
    "                                          target_size=(128,128),\n",
    "                                          class_mode='categorical',\n",
    "                                          batch_size=16)"
   ]
  },
  {
   "cell_type": "code",
   "execution_count": 6,
   "id": "4c193316",
   "metadata": {},
   "outputs": [
    {
     "name": "stdout",
     "output_type": "stream",
     "text": [
      "Found 1686 images belonging to 6 classes.\n"
     ]
    }
   ],
   "source": [
    "x_test=test_datagen.flow_from_directory(r\"D:\\Plant Disease\\Dataset Plant Disease\\fruit-dataset\\fruit-dataset\\test\",\n",
    "                                        target_size=(128,128),\n",
    "                                        class_mode='categorical',\n",
    "                                        batch_size=16)"
   ]
  },
  {
   "cell_type": "code",
   "execution_count": 7,
   "id": "c9e01fb9",
   "metadata": {},
   "outputs": [
    {
     "data": {
      "text/plain": [
       "{'Apple___Black_rot': 0,\n",
       " 'Apple___healthy': 1,\n",
       " 'Corn_(maize)___Northern_Leaf_Blight': 2,\n",
       " 'Corn_(maize)___healthy': 3,\n",
       " 'Peach___Bacterial_spot': 4,\n",
       " 'Peach___healthy': 5}"
      ]
     },
     "execution_count": 7,
     "metadata": {},
     "output_type": "execute_result"
    }
   ],
   "source": [
    "x_train.class_indices"
   ]
  },
  {
   "cell_type": "code",
   "execution_count": 8,
   "id": "2ca2eb09",
   "metadata": {},
   "outputs": [],
   "source": [
    "model=Sequential()"
   ]
  },
  {
   "cell_type": "code",
   "execution_count": 9,
   "id": "58493c9b",
   "metadata": {},
   "outputs": [],
   "source": [
    "model.add(Convolution2D(32,(3,3),input_shape=(128,128,3),activation='relu'))"
   ]
  },
  {
   "cell_type": "code",
   "execution_count": 10,
   "id": "76f4346a",
   "metadata": {},
   "outputs": [
    {
     "name": "stdout",
     "output_type": "stream",
     "text": [
      "Model: \"sequential\"\n",
      "_________________________________________________________________\n",
      " Layer (type)                Output Shape              Param #   \n",
      "=================================================================\n",
      " conv2d (Conv2D)             (None, 126, 126, 32)      896       \n",
      "                                                                 \n",
      " max_pooling2d (MaxPooling2D  (None, 63, 63, 32)       0         \n",
      " )                                                               \n",
      "                                                                 \n",
      " flatten (Flatten)           (None, 127008)            0         \n",
      "                                                                 \n",
      "=================================================================\n",
      "Total params: 896\n",
      "Trainable params: 896\n",
      "Non-trainable params: 0\n",
      "_________________________________________________________________\n"
     ]
    }
   ],
   "source": [
    "model.add(MaxPooling2D(pool_size=(2,2)))\n",
    "model.add(Flatten())\n",
    "model.summary()\n"
   ]
  },
  {
   "cell_type": "code",
   "execution_count": 11,
   "id": "f11ed5f7",
   "metadata": {},
   "outputs": [],
   "source": [
    "model.add(Dense(300,activation='relu'))\n",
    "model.add(Dense(150,activation='relu'))\n",
    "model.add(Dense(6,activation='softmax'))"
   ]
  },
  {
   "cell_type": "code",
   "execution_count": 12,
   "id": "d5f19861",
   "metadata": {},
   "outputs": [
    {
     "data": {
      "text/plain": [
       "337"
      ]
     },
     "execution_count": 12,
     "metadata": {},
     "output_type": "execute_result"
    }
   ],
   "source": [
    "model.compile(loss='categorical_crossentropy',optimizer='adam',metrics=['accuracy'])\n",
    "len(x_train)"
   ]
  },
  {
   "cell_type": "code",
   "execution_count": 13,
   "id": "9b1eb56a",
   "metadata": {},
   "outputs": [
    {
     "name": "stdout",
     "output_type": "stream",
     "text": [
      "Epoch 1/10\n",
      "337/337 [==============================] - 254s 749ms/step - loss: 1.0011 - accuracy: 0.7972 - val_loss: 0.2214 - val_accuracy: 0.9247\n",
      "Epoch 2/10\n",
      "337/337 [==============================] - 123s 364ms/step - loss: 0.2431 - accuracy: 0.9147 - val_loss: 0.2540 - val_accuracy: 0.9140\n",
      "Epoch 3/10\n",
      "337/337 [==============================] - 124s 367ms/step - loss: 0.2012 - accuracy: 0.9322 - val_loss: 0.1918 - val_accuracy: 0.9330\n",
      "Epoch 4/10\n",
      "337/337 [==============================] - 125s 371ms/step - loss: 0.1438 - accuracy: 0.9500 - val_loss: 0.1749 - val_accuracy: 0.9454\n",
      "Epoch 5/10\n",
      "337/337 [==============================] - 124s 368ms/step - loss: 0.1459 - accuracy: 0.9506 - val_loss: 0.2082 - val_accuracy: 0.9318\n",
      "Epoch 6/10\n",
      "337/337 [==============================] - 126s 375ms/step - loss: 0.1192 - accuracy: 0.9580 - val_loss: 0.1515 - val_accuracy: 0.9508\n",
      "Epoch 7/10\n",
      "337/337 [==============================] - 123s 366ms/step - loss: 0.1046 - accuracy: 0.9617 - val_loss: 0.1034 - val_accuracy: 0.9644\n",
      "Epoch 8/10\n",
      "337/337 [==============================] - 126s 373ms/step - loss: 0.1231 - accuracy: 0.9590 - val_loss: 0.0868 - val_accuracy: 0.9751\n",
      "Epoch 9/10\n",
      "337/337 [==============================] - 124s 368ms/step - loss: 0.1002 - accuracy: 0.9684 - val_loss: 0.1327 - val_accuracy: 0.9609\n",
      "Epoch 10/10\n",
      "337/337 [==============================] - 124s 368ms/step - loss: 0.0755 - accuracy: 0.9762 - val_loss: 0.0967 - val_accuracy: 0.9709\n"
     ]
    },
    {
     "data": {
      "text/plain": [
       "<keras.callbacks.History at 0x1aac230a100>"
      ]
     },
     "execution_count": 13,
     "metadata": {},
     "output_type": "execute_result"
    }
   ],
   "source": [
    "model.fit(x_train,steps_per_epoch=len(x_train),validation_data=x_test,validation_steps=len(x_test),epochs=10)"
   ]
  },
  {
   "cell_type": "code",
   "execution_count": 14,
   "id": "c9fb64a5",
   "metadata": {},
   "outputs": [],
   "source": [
    "model.save('fruitdata.h5')"
   ]
  },
  {
   "cell_type": "code",
   "execution_count": null,
   "id": "1ce593c7",
   "metadata": {},
   "outputs": [],
   "source": []
  }
 ],
 "metadata": {
  "kernelspec": {
   "display_name": "Python 3 (ipykernel)",
   "language": "python",
   "name": "python3"
  },
  "language_info": {
   "codemirror_mode": {
    "name": "ipython",
    "version": 3
   },
   "file_extension": ".py",
   "mimetype": "text/x-python",
   "name": "python",
   "nbconvert_exporter": "python",
   "pygments_lexer": "ipython3",
   "version": "3.9.13"
  }
 },
 "nbformat": 4,
 "nbformat_minor": 5
}
