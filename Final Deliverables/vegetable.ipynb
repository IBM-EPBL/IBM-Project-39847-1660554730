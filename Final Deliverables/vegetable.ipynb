{
 "cells": [
  {
   "cell_type": "code",
   "execution_count": 1,
   "id": "2dfb1de3",
   "metadata": {},
   "outputs": [],
   "source": [
    "#Importing Required Libraries\n",
    "import pandas as pd\n",
    "import numpy as np\n",
    "from tensorflow.keras.models import Sequential\n",
    "from tensorflow.keras.layers import Convolution2D, MaxPooling2D, Flatten, Dense\n",
    "from tensorflow.keras.preprocessing.image import ImageDataGenerator"
   ]
  },
  {
   "cell_type": "code",
   "execution_count": 2,
   "id": "a4327b4a",
   "metadata": {},
   "outputs": [],
   "source": [
    "train_datagen=ImageDataGenerator(rescale=1./255, \n",
    "                                 zoom_range=0.2,\n",
    "                                 horizontal_flip=True,\n",
    "                                 vertical_flip=False)"
   ]
  },
  {
   "cell_type": "code",
   "execution_count": 3,
   "id": "dd3a3bde",
   "metadata": {},
   "outputs": [],
   "source": [
    "test_datagen=ImageDataGenerator(rescale=1./255)"
   ]
  },
  {
   "cell_type": "code",
   "execution_count": 4,
   "id": "f3cf6cb2",
   "metadata": {},
   "outputs": [
    {
     "name": "stdout",
     "output_type": "stream",
     "text": [
      "Found 11386 images belonging to 9 classes.\n"
     ]
    }
   ],
   "source": [
    "x_train=train_datagen.flow_from_directory(r\"D:\\Plant Disease\\Dataset Plant Disease\\Veg-dataset\\Veg-dataset\\train_set\",\n",
    "                                          target_size=(128,128),\n",
    "                                          class_mode='categorical',\n",
    "                                          batch_size=24)"
   ]
  },
  {
   "cell_type": "code",
   "execution_count": 5,
   "id": "3e18baeb",
   "metadata": {},
   "outputs": [
    {
     "name": "stdout",
     "output_type": "stream",
     "text": [
      "Found 3416 images belonging to 9 classes.\n"
     ]
    }
   ],
   "source": [
    "x_test=test_datagen.flow_from_directory(r\"D:\\Plant Disease\\Dataset Plant Disease\\Veg-dataset\\Veg-dataset\\test_set\",\n",
    "                                        target_size=(128,128),\n",
    "                                        class_mode='categorical',\n",
    "                                        batch_size=24)"
   ]
  },
  {
   "cell_type": "code",
   "execution_count": 6,
   "id": "ab6fcc8b",
   "metadata": {},
   "outputs": [
    {
     "data": {
      "text/plain": [
       "{'Pepper,_bell___Bacterial_spot': 0,\n",
       " 'Pepper,_bell___healthy': 1,\n",
       " 'Potato___Early_blight': 2,\n",
       " 'Potato___Late_blight': 3,\n",
       " 'Potato___healthy': 4,\n",
       " 'Tomato___Bacterial_spot': 5,\n",
       " 'Tomato___Late_blight': 6,\n",
       " 'Tomato___Leaf_Mold': 7,\n",
       " 'Tomato___Septoria_leaf_spot': 8}"
      ]
     },
     "execution_count": 6,
     "metadata": {},
     "output_type": "execute_result"
    }
   ],
   "source": [
    "x_train.class_indices"
   ]
  },
  {
   "cell_type": "code",
   "execution_count": 7,
   "id": "8c79d58e",
   "metadata": {},
   "outputs": [],
   "source": [
    "model=Sequential()"
   ]
  },
  {
   "cell_type": "code",
   "execution_count": 8,
   "id": "94d6757f",
   "metadata": {},
   "outputs": [],
   "source": [
    "model.add(Convolution2D(32,(3,3),input_shape=(128,128,3),activation='relu'))\n",
    "model.add(MaxPooling2D(pool_size=(2,2)))\n",
    "model.add(Flatten())"
   ]
  },
  {
   "cell_type": "code",
   "execution_count": 9,
   "id": "1d7a4571",
   "metadata": {},
   "outputs": [
    {
     "name": "stdout",
     "output_type": "stream",
     "text": [
      "Model: \"sequential\"\n",
      "_________________________________________________________________\n",
      " Layer (type)                Output Shape              Param #   \n",
      "=================================================================\n",
      " conv2d (Conv2D)             (None, 126, 126, 32)      896       \n",
      "                                                                 \n",
      " max_pooling2d (MaxPooling2D  (None, 63, 63, 32)       0         \n",
      " )                                                               \n",
      "                                                                 \n",
      " flatten (Flatten)           (None, 127008)            0         \n",
      "                                                                 \n",
      "=================================================================\n",
      "Total params: 896\n",
      "Trainable params: 896\n",
      "Non-trainable params: 0\n",
      "_________________________________________________________________\n"
     ]
    }
   ],
   "source": [
    "model.summary()"
   ]
  },
  {
   "cell_type": "code",
   "execution_count": 10,
   "id": "69d8e1f7",
   "metadata": {},
   "outputs": [],
   "source": [
    "model.add(Dense(300,activation='relu'))\n",
    "model.add(Dense(150,activation='relu'))\n",
    "model.add(Dense(9,activation='softmax'))"
   ]
  },
  {
   "cell_type": "code",
   "execution_count": 11,
   "id": "3a5c3df0",
   "metadata": {},
   "outputs": [
    {
     "data": {
      "text/plain": [
       "475"
      ]
     },
     "execution_count": 11,
     "metadata": {},
     "output_type": "execute_result"
    }
   ],
   "source": [
    "model.compile(loss='categorical_crossentropy',optimizer='adam',metrics=['accuracy'])\n",
    "len(x_train)"
   ]
  },
  {
   "cell_type": "code",
   "execution_count": 12,
   "id": "016fea61",
   "metadata": {
    "scrolled": true
   },
   "outputs": [
    {
     "name": "stdout",
     "output_type": "stream",
     "text": [
      "Epoch 1/10\n",
      "475/475 [==============================] - 614s 1s/step - loss: 1.1546 - accuracy: 0.6292 - val_loss: 0.6863 - val_accuracy: 0.7400\n",
      "Epoch 2/10\n",
      "475/475 [==============================] - 289s 609ms/step - loss: 0.5767 - accuracy: 0.7970 - val_loss: 0.8276 - val_accuracy: 0.7257\n",
      "Epoch 3/10\n",
      "475/475 [==============================] - 255s 536ms/step - loss: 0.4640 - accuracy: 0.8364 - val_loss: 0.5291 - val_accuracy: 0.8290\n",
      "Epoch 4/10\n",
      "475/475 [==============================] - 226s 476ms/step - loss: 0.3685 - accuracy: 0.8674 - val_loss: 0.3410 - val_accuracy: 0.8823\n",
      "Epoch 5/10\n",
      "475/475 [==============================] - 223s 470ms/step - loss: 0.3145 - accuracy: 0.8929 - val_loss: 0.3655 - val_accuracy: 0.8741\n",
      "Epoch 6/10\n",
      "475/475 [==============================] - 223s 470ms/step - loss: 0.2657 - accuracy: 0.9065 - val_loss: 0.4105 - val_accuracy: 0.8478\n",
      "Epoch 7/10\n",
      "475/475 [==============================] - 223s 470ms/step - loss: 0.2795 - accuracy: 0.9019 - val_loss: 0.3107 - val_accuracy: 0.8893\n",
      "Epoch 8/10\n",
      "475/475 [==============================] - 223s 469ms/step - loss: 0.2314 - accuracy: 0.9163 - val_loss: 0.1587 - val_accuracy: 0.9429\n",
      "Epoch 9/10\n",
      "475/475 [==============================] - 221s 465ms/step - loss: 0.2205 - accuracy: 0.9232 - val_loss: 0.2332 - val_accuracy: 0.9154\n",
      "Epoch 10/10\n",
      "475/475 [==============================] - 222s 467ms/step - loss: 0.2010 - accuracy: 0.9257 - val_loss: 0.1302 - val_accuracy: 0.9570\n"
     ]
    },
    {
     "data": {
      "text/plain": [
       "<keras.callbacks.History at 0x27ca0f00280>"
      ]
     },
     "execution_count": 12,
     "metadata": {},
     "output_type": "execute_result"
    }
   ],
   "source": [
    "model.fit(x_train,steps_per_epoch=len(x_train),validation_data=x_test,validation_steps=len(x_test),epochs=10)"
   ]
  },
  {
   "cell_type": "code",
   "execution_count": 13,
   "id": "137ebed2",
   "metadata": {},
   "outputs": [],
   "source": [
    "model.save('vegetabledata.h5')"
   ]
  },
  {
   "cell_type": "code",
   "execution_count": null,
   "id": "062fcbe4",
   "metadata": {},
   "outputs": [],
   "source": []
  }
 ],
 "metadata": {
  "kernelspec": {
   "display_name": "Python 3 (ipykernel)",
   "language": "python",
   "name": "python3"
  },
  "language_info": {
   "codemirror_mode": {
    "name": "ipython",
    "version": 3
   },
   "file_extension": ".py",
   "mimetype": "text/x-python",
   "name": "python",
   "nbconvert_exporter": "python",
   "pygments_lexer": "ipython3",
   "version": "3.9.13"
  }
 },
 "nbformat": 4,
 "nbformat_minor": 5
}
